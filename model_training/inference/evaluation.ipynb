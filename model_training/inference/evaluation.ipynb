{
 "cells": [
  {
   "cell_type": "markdown",
   "id": "efe64a86",
   "metadata": {},
   "source": [
    "standard evaluation with test set + run gui app for live test"
   ]
  }
 ],
 "metadata": {
  "language_info": {
   "name": "python"
  }
 },
 "nbformat": 4,
 "nbformat_minor": 5
}
