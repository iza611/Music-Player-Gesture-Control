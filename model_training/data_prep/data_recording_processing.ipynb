{
 "cells": [
  {
   "cell_type": "markdown",
   "id": "42198631",
   "metadata": {},
   "source": [
    "capture videos and keypoints > process, create dataset > view "
   ]
  }
 ],
 "metadata": {
  "language_info": {
   "name": "python"
  }
 },
 "nbformat": 4,
 "nbformat_minor": 5
}
