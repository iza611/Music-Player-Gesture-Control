{
 "cells": [
  {
   "cell_type": "markdown",
   "id": "0131760e",
   "metadata": {},
   "source": [
    "collect data > process & prep dataset > train > evaluate"
   ]
  }
 ],
 "metadata": {
  "language_info": {
   "name": "python"
  }
 },
 "nbformat": 4,
 "nbformat_minor": 5
}
