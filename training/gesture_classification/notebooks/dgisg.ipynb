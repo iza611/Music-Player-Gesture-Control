{
 "cells": [
  {
   "cell_type": "code",
   "execution_count": 3,
   "id": "6139eaf4",
   "metadata": {},
   "outputs": [],
   "source": [
    "from pathlib import Path\n",
    "\n",
    "# Paths\n",
    "PROJ_ROOT = Path.cwd().resolve().parents[1]\n",
    "\n",
    "DATA_DIR = PROJ_ROOT / \"data\"\n",
    "KEYPOINT_DATA_DIR = DATA_DIR / \"keypoints\"\n",
    "KEYPOINT_NORM_DATA_DIR = DATA_DIR / \"keypoints_normalised\"\n",
    "\n",
    "import json"
   ]
  },
  {
   "cell_type": "code",
   "execution_count": 10,
   "id": "8ab71200",
   "metadata": {},
   "outputs": [],
   "source": [
    "import torch\n",
    "\n",
    "keypoints_normalised = torch.zeros((30,20,2,21,3))\n",
    "\n",
    "with open(KEYPOINT_NORM_DATA_DIR / \"metadata.json\", \"a\") as f:\n",
    "    f.write(json.dumps({\"class_nameee\": keypoints_normalised.shape[0]}) + \"\\n\")"
   ]
  },
  {
   "cell_type": "code",
   "execution_count": 18,
   "id": "90ef4585",
   "metadata": {},
   "outputs": [],
   "source": [
    "import csv \n",
    "key = \"xyz\"\n",
    "value = 100\n",
    "\n",
    "with open(KEYPOINT_NORM_DATA_DIR / \"metadata.csv\", mode=\"a\", newline=\"\") as csvfile:\n",
    "    writer = csv.writer(csvfile)\n",
    "    writer.writerow([key, value])"
   ]
  },
  {
   "cell_type": "code",
   "execution_count": null,
   "id": "b9c68ba2",
   "metadata": {},
   "outputs": [
    {
     "data": {
      "text/plain": [
       "111"
      ]
     },
     "execution_count": 19,
     "metadata": {},
     "output_type": "execute_result"
    }
   ],
   "source": [
    "total_samples = 0\n",
    "with open(KEYPOINT_NORM_DATA_DIR / \"metadata.csv\", mode=\"r\", newline=\"\") as csvfile:\n",
    "    reader = csv.reader(csvfile)\n",
    "    for row in reader:\n",
    "        if len(row) == 2:\n",
    "            total_samples += int(row[1])\n",
    "\n",
    "total_samples"
   ]
  },
  {
   "cell_type": "code",
   "execution_count": 21,
   "id": "3eaf1bcc",
   "metadata": {},
   "outputs": [
    {
     "data": {
      "text/plain": [
       "'stop'"
      ]
     },
     "execution_count": 21,
     "metadata": {},
     "output_type": "execute_result"
    }
   ],
   "source": [
    "name = 'stop_latest'\n",
    "name[:-7]"
   ]
  }
 ],
 "metadata": {
  "kernelspec": {
   "display_name": "music-player-gesture-control",
   "language": "python",
   "name": "python3"
  },
  "language_info": {
   "codemirror_mode": {
    "name": "ipython",
    "version": 3
   },
   "file_extension": ".py",
   "mimetype": "text/x-python",
   "name": "python",
   "nbconvert_exporter": "python",
   "pygments_lexer": "ipython3",
   "version": "3.10.18"
  }
 },
 "nbformat": 4,
 "nbformat_minor": 5
}
