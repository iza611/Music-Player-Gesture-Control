{
 "cells": [
  {
   "cell_type": "markdown",
   "id": "0131760e",
   "metadata": {},
   "source": [
    "run training from here to save the terminal output (training progress)"
   ]
  }
 ],
 "metadata": {
  "language_info": {
   "name": "python"
  }
 },
 "nbformat": 4,
 "nbformat_minor": 5
}
