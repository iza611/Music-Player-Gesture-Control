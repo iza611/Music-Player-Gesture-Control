{
 "cells": [
  {
   "cell_type": "markdown",
   "id": "e38b5059",
   "metadata": {},
   "source": [
    "load processed keypoints with class assigned -> train classifier -> save model"
   ]
  }
 ],
 "metadata": {
  "language_info": {
   "name": "python"
  }
 },
 "nbformat": 4,
 "nbformat_minor": 5
}
