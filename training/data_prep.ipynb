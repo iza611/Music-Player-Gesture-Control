{
 "cells": [
  {
   "cell_type": "markdown",
   "id": "42198631",
   "metadata": {},
   "source": [
    "capture videos and keypoints with gui app > process, create dataset with dataset_builder > view "
   ]
  },
  {
   "cell_type": "code",
   "execution_count": null,
   "id": "a2f7552a",
   "metadata": {
    "vscode": {
     "languageId": "plaintext"
    }
   },
   "outputs": [],
   "source": [
    "# record gesture 1,2,3, 4 and the output should show it being recorded and saved"
   ]
  },
  {
   "cell_type": "code",
   "execution_count": null,
   "id": "31b1295d",
   "metadata": {
    "vscode": {
     "languageId": "plaintext"
    }
   },
   "outputs": [],
   "source": [
    "# inspect data dir content"
   ]
  },
  {
   "cell_type": "code",
   "execution_count": null,
   "id": "dae7975c",
   "metadata": {
    "vscode": {
     "languageId": "plaintext"
    }
   },
   "outputs": [],
   "source": [
    "# process it for better analysis, calculae extra features and stuff and save it (embeddings dir renamed?)"
   ]
  },
  {
   "cell_type": "code",
   "execution_count": null,
   "id": "278e7e58",
   "metadata": {
    "vscode": {
     "languageId": "plaintext"
    }
   },
   "outputs": [],
   "source": [
    "# display once again"
   ]
  }
 ],
 "metadata": {
  "language_info": {
   "name": "python"
  }
 },
 "nbformat": 4,
 "nbformat_minor": 5
}
